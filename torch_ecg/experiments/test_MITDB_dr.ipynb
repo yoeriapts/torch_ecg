{
 "cells": [
  {
   "cell_type": "code",
   "execution_count": 4,
   "metadata": {
    "collapsed": true,
    "ExecuteTime": {
     "end_time": "2023-05-15T12:41:07.817719612Z",
     "start_time": "2023-05-15T12:41:07.775596769Z"
    }
   },
   "outputs": [
    {
     "name": "stdout",
     "output_type": "stream",
     "text": [
      "/home/yoeriapts/.pyenv/versions/torch_ecg/bin/python3.10\n"
     ]
    }
   ],
   "source": [
    "import sys\n",
    "print(sys.executable)"
   ]
  },
  {
   "cell_type": "code",
   "execution_count": 5,
   "outputs": [],
   "source": [
    "try:\n",
    "    from torch_ecg.databases import MITDB\n",
    "except ModuleNotFoundError:\n",
    "    sys.path.insert(0, \"/home/yoeriapts/workspace/torch_ecg/\")\n",
    "    from torch_ecg.databases import MITDB"
   ],
   "metadata": {
    "collapsed": false,
    "ExecuteTime": {
     "end_time": "2023-05-15T12:41:10.484355189Z",
     "start_time": "2023-05-15T12:41:10.480563829Z"
    }
   }
  },
  {
   "cell_type": "code",
   "execution_count": 6,
   "outputs": [
    {
     "name": "stdout",
     "output_type": "stream",
     "text": [
      "Please wait patiently to let the reader find all records of the database from local storage...\n",
      "TorchECG-MITDB - INFO - Done in 0.001 seconds!\n"
     ]
    },
    {
     "name": "stderr",
     "output_type": "stream",
     "text": [
      "/home/yoeriapts/workspace/torch_ecg/torch_ecg/databases/base.py:169: RuntimeWarning: `/home/yoeriapts/workspace/Datasets/MITDB` does not exist. It is now created. Please check if it is set correctly. Or if you may want to download the database into this folder, please use the `download()` method.\n",
      "  warnings.warn(\n",
      "/home/yoeriapts/workspace/torch_ecg/torch_ecg/databases/base.py:508: RuntimeWarning: No records found in the database! Please check if path to the database is correct. Or you can try to download the database first using the `download` method.\n",
      "  warnings.warn(empty_warning_msg, RuntimeWarning)\n"
     ]
    }
   ],
   "source": [
    "dr = MITDB(db_dir=\"/home/yoeriapts/workspace/Datasets/MITDB\")"
   ],
   "metadata": {
    "collapsed": false,
    "ExecuteTime": {
     "end_time": "2023-05-15T12:41:11.026986403Z",
     "start_time": "2023-05-15T12:41:11.016425404Z"
    }
   }
  },
  {
   "cell_type": "code",
   "execution_count": 7,
   "outputs": [
    {
     "name": "stdout",
     "output_type": "stream",
     "text": [
      "Downloading https://physionet.org/static/published-projects/mitdb/mit-bih-arrhythmia-database-1.0.0.zip.\n"
     ]
    },
    {
     "data": {
      "text/plain": "  0%|                                                                        | 0.00/77.0M [00:00<?, ?B/s]",
      "application/vnd.jupyter.widget-view+json": {
       "version_major": 2,
       "version_minor": 0,
       "model_id": "779b99a07ac149bfa367f78779168640"
      }
     },
     "metadata": {},
     "output_type": "display_data"
    },
    {
     "name": "stdout",
     "output_type": "stream",
     "text": [
      "Extracting file /home/yoeriapts/workspace/Datasets/tmptuseo1uv.zip to /home/yoeriapts/workspace/Datasets/MITDB.\n",
      "Please wait patiently to let the reader find all records of the database from local storage...\n",
      "TorchECG-MITDB - INFO - Done in 0.002 seconds!\n"
     ]
    }
   ],
   "source": [
    "dr.download()"
   ],
   "metadata": {
    "collapsed": false,
    "ExecuteTime": {
     "end_time": "2023-05-15T12:42:43.474321904Z",
     "start_time": "2023-05-15T12:41:30.482865893Z"
    }
   }
  },
  {
   "cell_type": "code",
   "execution_count": 10,
   "outputs": [
    {
     "data": {
      "text/plain": "['__abstractmethods__',\n '__class__',\n '__delattr__',\n '__dict__',\n '__dir__',\n '__doc__',\n '__eq__',\n '__format__',\n '__ge__',\n '__getattribute__',\n '__getitem__',\n '__gt__',\n '__hash__',\n '__init__',\n '__init_subclass__',\n '__le__',\n '__len__',\n '__lt__',\n '__module__',\n '__name__',\n '__ne__',\n '__new__',\n '__reduce__',\n '__reduce_ex__',\n '__repr__',\n '__setattr__',\n '__sizeof__',\n '__slots__',\n '__str__',\n '__subclasshook__',\n '__weakref__',\n '_abc_impl',\n '_aggregate_stats',\n '_all_leads',\n '_all_records',\n '_auto_infer_units',\n '_categorize_records',\n '_df_records',\n '_get_lead_names',\n '_ls_rec',\n '_ls_rec_local',\n '_normalize_leads',\n '_rhythm_ignore_index',\n '_stats',\n '_stats_columns',\n '_subsample',\n '_url_compressed',\n '_version',\n 'all_records',\n 'ann_ext',\n 'beat_types',\n 'beat_types_extended',\n 'beat_types_extended_map',\n 'beat_types_map',\n 'beat_types_records',\n 'data_ext',\n 'data_pattern',\n 'data_pattern_with_ext',\n 'database_info',\n 'db_dir',\n 'db_name',\n 'db_stats',\n 'df_all_db_info',\n 'df_stats',\n 'df_stats_expanded',\n 'df_stats_expanded_boolean',\n 'download',\n 'extra_repr_keys',\n 'fs',\n 'get_absolute_path',\n 'get_arrhythmia_knowledge',\n 'get_citation',\n 'get_file_download_url',\n 'get_subject_id',\n 'header_ext',\n 'helper',\n 'load_ann',\n 'load_beat_ann',\n 'load_data',\n 'load_rhythm_ann',\n 'load_rpeak_indices',\n 'logger',\n 'nonbeat_types',\n 'plot',\n 'rhythm_types',\n 'rhythm_types_map',\n 'rhythm_types_records',\n 'url',\n 'url_',\n 'verbose',\n 'version',\n 'webpage',\n 'working_dir']"
     },
     "execution_count": 10,
     "metadata": {},
     "output_type": "execute_result"
    }
   ],
   "source": [
    "dir(dr)"
   ],
   "metadata": {
    "collapsed": false,
    "ExecuteTime": {
     "end_time": "2023-05-15T12:50:07.781756104Z",
     "start_time": "2023-05-15T12:50:07.738459424Z"
    }
   }
  },
  {
   "cell_type": "code",
   "execution_count": 19,
   "outputs": [
    {
     "name": "stdout",
     "output_type": "stream",
     "text": [
      "\n",
      "    MIT-BIH Arrhythmia Database\n",
      "    \n",
      "\n",
      "    1. contains 48 half-hour excerpts of two-channel ambulatory ECG recordings, obtained from 47 subjects.\n",
      "    2. recordings were digitized at 360 samples per second per channel with 11-bit resolution over a 10 mV range.\n",
      "    3. annotations contains:\n",
      "\n",
      "        - beat-wise or finer (e.g. annotations of flutter wave) annotations, accessed via the `symbol` attribute of an `Annotation`.\n",
      "        - rhythm annotations, accessed via the `aux_note` attribute of an `Annotation`.\n",
      "    4. Webpage of the database on PhysioNet [1]_.\n",
      "    \n"
     ]
    }
   ],
   "source": [
    "\n",
    "print(dr.database_info.title)\n",
    "print(dr.database_info.about)"
   ],
   "metadata": {
    "collapsed": false,
    "ExecuteTime": {
     "end_time": "2023-05-15T12:51:53.727042605Z",
     "start_time": "2023-05-15T12:51:53.720375299Z"
    }
   }
  },
  {
   "cell_type": "code",
   "execution_count": null,
   "outputs": [],
   "source": [],
   "metadata": {
    "collapsed": false
   }
  }
 ],
 "metadata": {
  "kernelspec": {
   "name": "torch_ecg",
   "language": "python",
   "display_name": "torch_ecg"
  },
  "language_info": {
   "codemirror_mode": {
    "name": "ipython",
    "version": 2
   },
   "file_extension": ".py",
   "mimetype": "text/x-python",
   "name": "python",
   "nbconvert_exporter": "python",
   "pygments_lexer": "ipython2",
   "version": "2.7.6"
  }
 },
 "nbformat": 4,
 "nbformat_minor": 0
}
