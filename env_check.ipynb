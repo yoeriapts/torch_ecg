{
 "cells": [
  {
   "cell_type": "code",
   "execution_count": 7,
   "id": "2732f94e-5dda-48d0-8ab6-a6f85e88b2cc",
   "metadata": {},
   "outputs": [],
   "source": [
    "import sys"
   ]
  },
  {
   "cell_type": "code",
   "execution_count": 8,
   "id": "7a742636-e14b-44f0-8048-b603f5c33fc9",
   "metadata": {},
   "outputs": [
    {
     "data": {
      "text/plain": [
       "'/home/yoeriapts/.pyenv/versions/torch_ecg/bin/python3.10'"
      ]
     },
     "execution_count": 8,
     "metadata": {},
     "output_type": "execute_result"
    }
   ],
   "source": [
    "sys.executable"
   ]
  },
  {
   "cell_type": "code",
   "execution_count": 9,
   "id": "e28f46d8-20b0-4c54-a8cc-e7fe7c00812c",
   "metadata": {},
   "outputs": [],
   "source": [
    "import wfdb"
   ]
  },
  {
   "cell_type": "code",
   "execution_count": 10,
   "id": "4375f3aa-df28-4a1f-87bc-167ce3bfbb14",
   "metadata": {},
   "outputs": [
    {
     "data": {
      "text/plain": [
       "'3.2.0'"
      ]
     },
     "execution_count": 10,
     "metadata": {},
     "output_type": "execute_result"
    }
   ],
   "source": [
    "wfdb.__version__"
   ]
  },
  {
   "cell_type": "code",
   "execution_count": 11,
   "id": "7c8ea627-0d54-4ab4-b833-9b3e658bc046",
   "metadata": {},
   "outputs": [],
   "source": [
    "import torch"
   ]
  },
  {
   "cell_type": "code",
   "execution_count": 12,
   "id": "e02fc8e9-7454-4972-a91b-41882e9b5144",
   "metadata": {},
   "outputs": [
    {
     "data": {
      "text/plain": [
       "True"
      ]
     },
     "execution_count": 12,
     "metadata": {},
     "output_type": "execute_result"
    }
   ],
   "source": [
    "torch.cuda.is_available()"
   ]
  },
  {
   "cell_type": "code",
   "execution_count": null,
   "id": "d51ad98b-5088-421d-bf9e-093a67e55331",
   "metadata": {},
   "outputs": [],
   "source": []
  },
  {
   "cell_type": "code",
   "execution_count": null,
   "id": "9d75b097-7131-493d-b98d-1f6895172d5c",
   "metadata": {},
   "outputs": [],
   "source": []
  }
 ],
 "metadata": {
  "kernelspec": {
   "display_name": "torch_ecg",
   "language": "python",
   "name": "torch_ecg"
  },
  "language_info": {
   "codemirror_mode": {
    "name": "ipython",
    "version": 3
   },
   "file_extension": ".py",
   "mimetype": "text/x-python",
   "name": "python",
   "nbconvert_exporter": "python",
   "pygments_lexer": "ipython3",
   "version": "3.10.10"
  }
 },
 "nbformat": 4,
 "nbformat_minor": 5
}
